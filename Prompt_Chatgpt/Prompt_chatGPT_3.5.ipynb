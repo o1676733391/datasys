{
 "cells": [
  {
   "cell_type": "code",
   "execution_count": 1,
   "metadata": {},
   "outputs": [
    {
     "name": "stdout",
     "output_type": "stream",
     "text": [
      "Trả lời theo mẫu, không nói thêm, không giới thiệu:\n",
      "\"\"\"\n",
      "- Từ - loại từ:\n",
      "1.Mô tả:\n",
      "2.Ví dụ:\n",
      "3.Đồng nghĩa:\n",
      "4.Trái nghĩa:\n",
      "\"\"\"\n",
      "không xuống hàng\n",
      "nếu từ trái nghĩa hay từ đồng nghĩa không có thì 'n/a'\n",
      "trả lời giống như đang nói chuyện với trẻ em:\n",
      "- hoạt động - Động từ:\n",
      "1.Mô tả bằng cách đơn giản nhất và ngắn gọn mà trẻ em cấp một hiểu được\n",
      "2.Ví dụ đơn giản mà trẻ em hiểu được và gần gũi với trẻ em\n",
      "3.Vài từ đồng nghĩa\n",
      "4.Vài từ trái nghĩa\n",
      "- hoạt động - Tính từ:\n",
      "1.Mô tả bằng cách đơn giản nhất và ngắn gọn mà trẻ em cấp một hiểu được\n",
      "2.Ví dụ đơn giản mà trẻ em hiểu được và gần gũi với trẻ em\n",
      "3.Vài từ đồng nghĩa\n",
      "4.Vài từ trái nghĩa\n",
      "\n"
     ]
    }
   ],
   "source": [
    "word = \"hoạt động\"\n",
    "words_type = [\"Động từ\", \"Tính từ\"]\n",
    "prompt = \"\"\n",
    "\n",
    "prompt += f\"Trả lời theo mẫu, không nói thêm, không giới thiệu:\\n\"\\\n",
    "    + \"\\\"\\\"\\\"\\n\"\\\n",
    "    + \"- Từ - loại từ:\\n\"\\\n",
    "    + \"1.Mô tả:\\n\"\\\n",
    "    + \"2.Ví dụ:\\n\"\\\n",
    "    + \"3.Đồng nghĩa:\\n\"\\\n",
    "    + \"4.Trái nghĩa:\\n\"\\\n",
    "    + \"\\\"\\\"\\\"\\n\"\\\n",
    "    + \"không xuống hàng\\n\"\\\n",
    "    + \"nếu từ trái nghĩa hay từ đồng nghĩa không có thì 'n/a'\\n\"\\\n",
    "    + \"trả lời giống như đang nói chuyện với trẻ em:\\n\"\\\n",
    "\n",
    "for word_type in words_type:\n",
    "    prompt += f\"- {word} - {word_type}:\\n\"\\\n",
    "        + \"1.Mô tả bằng cách đơn giản nhất và ngắn gọn mà trẻ em cấp một hiểu được\\n\"\\\n",
    "        + \"2.Ví dụ đơn giản mà trẻ em hiểu được và gần gũi với trẻ em\\n\"\\\n",
    "        + \"3.Vài từ đồng nghĩa\\n\"\\\n",
    "        + \"4.Vài từ trái nghĩa\\n\"\\\n",
    "\n",
    "print(prompt)\n"
   ]
  }
 ],
 "metadata": {
  "kernelspec": {
   "display_name": "tf",
   "language": "python",
   "name": "python3"
  },
  "language_info": {
   "codemirror_mode": {
    "name": "ipython",
    "version": 3
   },
   "file_extension": ".py",
   "mimetype": "text/x-python",
   "name": "python",
   "nbconvert_exporter": "python",
   "pygments_lexer": "ipython3",
   "version": "3.9.18"
  }
 },
 "nbformat": 4,
 "nbformat_minor": 2
}
